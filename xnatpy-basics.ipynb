{
 "cells": [
  {
   "attachments": {},
   "cell_type": "markdown",
   "metadata": {},
   "source": [
    "# Accessing XNAT with XnatPy\n",
    "\n",
    "XnatPy is a Python library for interacting with XNAT through its \"REST API\".\n",
    "It also has a command-line utility for conveniently interacting with data stored in an XNAT instance. \n",
    "\n",
    "## Getting Started\n",
    "\n",
    "The best place to start with any of the tools is with the help menu, which accessed by providing the `--help` flag to any of the tools, e.g.:"
   ]
  },
  {
   "cell_type": "code",
   "execution_count": 4,
   "metadata": {},
   "outputs": [
    {
     "name": "stdout",
     "output_type": "stream",
     "text": [
      "Usage: xnat [OPTIONS] COMMAND [ARGS]...\n",
      "\n",
      "Options:\n",
      "  --version                       Show the version and exit.\n",
      "  --jsession TEXT                 JSESSION value\n",
      "  -u, --user TEXT                 Username to connect to XNAT with.\n",
      "  -h, --host TEXT                 XNAT host to connect to.\n",
      "  -n, --netrc TEXT                .netrc file location.\n",
      "  --loglevel TEXT                 Logging verbosity level.\n",
      "  --output-format [raw|csv|human]\n",
      "                                  Output format\n",
      "  --timeout FLOAT                 Timeout for the command in ms.\n",
      "  --help                          Show this message and exit.\n",
      "\n",
      "Commands:\n",
      "  download    Commands to download XNAT objects to your machine.\n",
      "  import      Commands to import data from your machine into XNAT\n",
      "  list        Commands to list different XNAT objects either in machine-...\n",
      "  login       Establish a connection to XNAT and print the JSESSIONID so...\n",
      "  logout      Close your current connection to XNAT.\n",
      "  prearchive  Commands for prearchive management.\n",
      "  rest        Perform various REST requests to the target XNAT.\n",
      "  script      Collection of various XNAT-related scripts.\n"
     ]
    }
   ],
   "source": [
    "xnat --help"
   ]
  },
  {
   "cell_type": "code",
   "execution_count": 5,
   "metadata": {},
   "outputs": [
    {
     "name": "stdout",
     "output_type": "stream",
     "text": [
      "Usage: xnat download [OPTIONS] COMMAND [ARGS]...\n",
      "\n",
      "  Commands to download XNAT objects to your machine.\n",
      "\n",
      "Options:\n",
      "  --help  Show this message and exit.\n",
      "\n",
      "Commands:\n",
      "  project  Download XNAT project to the target directory.\n"
     ]
    }
   ],
   "source": [
    "xnat download --help"
   ]
  },
  {
   "cell_type": "code",
   "execution_count": null,
   "metadata": {},
   "outputs": [],
   "source": []
  }
 ],
 "metadata": {
  "kernelspec": {
   "display_name": "Bash",
   "language": "python",
   "name": "bash"
  },
  "language_info": {
   "codemirror_mode": "shell",
   "file_extension": ".sh",
   "mimetype": "text/x-sh",
   "name": "python",
   "version": "3.8.13"
  },
  "orig_nbformat": 4
 },
 "nbformat": 4,
 "nbformat_minor": 2
}
